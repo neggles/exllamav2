{
  "cells": [
    {
      "cell_type": "markdown",
      "metadata": {
        "id": "Wv96vR6HpNZF"
      },
      "source": [
        "Optional: install Flash Attention"
      ]
    },
    {
      "cell_type": "code",
      "execution_count": null,
      "metadata": {
        "id": "KjOm-GNZpMA0"
      },
      "outputs": [],
      "source": [
        "%pip install -v flash-attn"
      ]
    },
    {
      "cell_type": "markdown",
      "metadata": {
        "id": "NTOhV8supsTA"
      },
      "source": [
        "Clone ExLlamaV2 and install dependencies"
      ]
    },
    {
      "cell_type": "code",
      "execution_count": null,
      "metadata": {
        "id": "MkEIIMJdpk_d"
      },
      "outputs": [],
      "source": [
        "!git clone https://github.com/turboderp/exllamav2\n",
        "!cd exllamav2 && pip install -r requirements.txt"
      ]
    },
    {
      "cell_type": "markdown",
      "metadata": {
        "id": "MqAu9pcBqAf4"
      },
      "source": [
        "Download a model. This may take a moment."
      ]
    },
    {
      "cell_type": "code",
      "execution_count": null,
      "metadata": {
        "id": "4OotLYL3p7rD"
      },
      "outputs": [],
      "source": [
        "!sudo apt-get install git-lfs\n",
        "!git lfs install\n",
        "!git clone https://huggingface.co/turboderp/Mistral-7B-instruct-exl2 my_model\n",
        "!cd my_model && git switch 4.0bpw"
      ]
    },
    {
      "cell_type": "markdown",
      "metadata": {
        "id": "4DcCw_URrHja"
      },
      "source": [
        "Launch the chatbot example. On the first launch, this may also take a while to compile the C++/CUDA extension."
      ]
    },
    {
      "cell_type": "code",
      "execution_count": null,
      "metadata": {
        "id": "HbpsCnOoqKzk"
      },
      "outputs": [],
      "source": [
        "!cd exllamav2 && python examples/chat.py -m ../my_model -mode llama -pt -ncf"
      ]
    }
  ],
  "metadata": {
    "accelerator": "GPU",
    "colab": {
      "gpuType": "V100",
      "provenance": []
    },
    "kernelspec": {
      "display_name": "Python 3",
      "name": "python3"
    },
    "language_info": {
      "name": "python"
    }
  },
  "nbformat": 4,
  "nbformat_minor": 0
}
